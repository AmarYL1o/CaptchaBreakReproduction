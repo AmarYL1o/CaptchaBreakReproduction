{
 "cells": [
  {
   "cell_type": "code",
   "execution_count": 1,
   "metadata": {},
   "outputs": [],
   "source": [
    "import torch\n",
    "import torch.nn as nn\n",
    "import torch.nn.functional as F\n",
    "from torch.utils.data import Dataset, DataLoader\n",
    "from torchvision.transforms.functional import to_tensor, to_pil_image\n",
    "from captcha.image import ImageCaptcha\n",
    "from tqdm import tqdm\n",
    "import string\n",
    "import random\n",
    "import numpy as np\n",
    "from collections import OrderedDict\n",
    "from Utils import CaptchaDataset, Model, train, valid, decode, decode_target, calc_acc"
   ]
  },
  {
   "cell_type": "code",
   "execution_count": 2,
   "metadata": {},
   "outputs": [
    {
     "name": "stdout",
     "output_type": "stream",
     "text": [
      "-0123456789ABCDEFGHIJKLMNOPQRSTUVWXYZ 192 64 4 37\n"
     ]
    }
   ],
   "source": [
    "characters = \"-\" + string.digits + string.ascii_uppercase\n",
    "width, height, n_len, n_classes = 192, 64, 4, len(characters)\n",
    "n_input_length = 12\n",
    "print(characters, width, height, n_len, n_classes)"
   ]
  },
  {
   "cell_type": "code",
   "execution_count": 3,
   "metadata": {},
   "outputs": [
    {
     "name": "stdout",
     "output_type": "stream",
     "text": [
      "7HHW tensor([12]) tensor([4])\n"
     ]
    },
    {
     "data": {
      "image/png": "[encoded data removed]",
      "text/plain": [
       "<PIL.Image.Image image mode=RGB size=192x64>"
      ]
     },
     "execution_count": 3,
     "metadata": {},
     "output_type": "execute_result"
    }
   ],
   "source": [
    "dataset = CaptchaDataset(characters, 1, width, height, n_input_length, n_len)\n",
    "image, target, input_length, label_length = dataset[0]\n",
    "print(\"\".join([characters[x] for x in target]), input_length, label_length)\n",
    "to_pil_image(image)"
   ]
  },
  {
   "cell_type": "code",
   "execution_count": 4,
   "metadata": {},
   "outputs": [],
   "source": [
    "batch_size = 70\n",
    "train_set = CaptchaDataset(\n",
    "    characters, 1000 * batch_size, width, height, n_input_length, n_len\n",
    ")\n",
    "valid_set = CaptchaDataset(\n",
    "    characters, 100 * batch_size, width, height, n_input_length, n_len\n",
    ")\n",
    "train_loader = DataLoader(train_set, batch_size=batch_size, num_workers=2)\n",
    "valid_loader = DataLoader(valid_set, batch_size=batch_size, num_workers=2)"
   ]
  },
  {
   "cell_type": "code",
   "execution_count": 5,
   "metadata": {},
   "outputs": [
    {
     "data": {
      "text/plain": [
       "torch.Size([12, 32, 37])"
      ]
     },
     "execution_count": 5,
     "metadata": {},
     "output_type": "execute_result"
    }
   ],
   "source": [
    "model = Model(n_classes, input_shape=(3, height, width))\n",
    "inputs = torch.zeros((32, 3, height, width))\n",
    "outpus = model(inputs)\n",
    "outpus.shape"
   ]
  },
  {
   "cell_type": "code",
   "execution_count": 6,
   "metadata": {},
   "outputs": [
    {
     "data": {
      "text/plain": [
       "Model(\n",
       "  (cnn): Sequential(\n",
       "    (conv11): Conv2d(3, 32, kernel_size=(3, 3), stride=(1, 1), padding=(1, 1))\n",
       "    (bn11): BatchNorm2d(32, eps=1e-05, momentum=0.1, affine=True, track_running_stats=True)\n",
       "    (relu11): ReLU(inplace=True)\n",
       "    (conv12): Conv2d(32, 32, kernel_size=(3, 3), stride=(1, 1), padding=(1, 1))\n",
       "    (bn12): BatchNorm2d(32, eps=1e-05, momentum=0.1, affine=True, track_running_stats=True)\n",
       "    (relu12): ReLU(inplace=True)\n",
       "    (pool1): MaxPool2d(kernel_size=2, stride=2, padding=0, dilation=1, ceil_mode=False)\n",
       "    (conv21): Conv2d(32, 64, kernel_size=(3, 3), stride=(1, 1), padding=(1, 1))\n",
       "    (bn21): BatchNorm2d(64, eps=1e-05, momentum=0.1, affine=True, track_running_stats=True)\n",
       "    (relu21): ReLU(inplace=True)\n",
       "    (conv22): Conv2d(64, 64, kernel_size=(3, 3), stride=(1, 1), padding=(1, 1))\n",
       "    (bn22): BatchNorm2d(64, eps=1e-05, momentum=0.1, affine=True, track_running_stats=True)\n",
       "    (relu22): ReLU(inplace=True)\n",
       "    (pool2): MaxPool2d(kernel_size=2, stride=2, padding=0, dilation=1, ceil_mode=False)\n",
       "    (conv31): Conv2d(64, 128, kernel_size=(3, 3), stride=(1, 1), padding=(1, 1))\n",
       "    (bn31): BatchNorm2d(128, eps=1e-05, momentum=0.1, affine=True, track_running_stats=True)\n",
       "    (relu31): ReLU(inplace=True)\n",
       "    (conv32): Conv2d(128, 128, kernel_size=(3, 3), stride=(1, 1), padding=(1, 1))\n",
       "    (bn32): BatchNorm2d(128, eps=1e-05, momentum=0.1, affine=True, track_running_stats=True)\n",
       "    (relu32): ReLU(inplace=True)\n",
       "    (pool3): MaxPool2d(kernel_size=2, stride=2, padding=0, dilation=1, ceil_mode=False)\n",
       "    (conv41): Conv2d(128, 256, kernel_size=(3, 3), stride=(1, 1), padding=(1, 1))\n",
       "    (bn41): BatchNorm2d(256, eps=1e-05, momentum=0.1, affine=True, track_running_stats=True)\n",
       "    (relu41): ReLU(inplace=True)\n",
       "    (conv42): Conv2d(256, 256, kernel_size=(3, 3), stride=(1, 1), padding=(1, 1))\n",
       "    (bn42): BatchNorm2d(256, eps=1e-05, momentum=0.1, affine=True, track_running_stats=True)\n",
       "    (relu42): ReLU(inplace=True)\n",
       "    (pool4): MaxPool2d(kernel_size=2, stride=2, padding=0, dilation=1, ceil_mode=False)\n",
       "    (conv51): Conv2d(256, 256, kernel_size=(3, 3), stride=(1, 1), padding=(1, 1))\n",
       "    (bn51): BatchNorm2d(256, eps=1e-05, momentum=0.1, affine=True, track_running_stats=True)\n",
       "    (relu51): ReLU(inplace=True)\n",
       "    (conv52): Conv2d(256, 256, kernel_size=(3, 3), stride=(1, 1), padding=(1, 1))\n",
       "    (bn52): BatchNorm2d(256, eps=1e-05, momentum=0.1, affine=True, track_running_stats=True)\n",
       "    (relu52): ReLU(inplace=True)\n",
       "    (pool5): MaxPool2d(kernel_size=(2, 1), stride=(2, 1), padding=0, dilation=1, ceil_mode=False)\n",
       "    (dropout): Dropout(p=0.25, inplace=True)\n",
       "  )\n",
       "  (lstm): LSTM(512, 128, num_layers=2, bidirectional=True)\n",
       "  (fc): Linear(in_features=256, out_features=37, bias=True)\n",
       ")"
      ]
     },
     "execution_count": 6,
     "metadata": {},
     "output_type": "execute_result"
    }
   ],
   "source": [
    "model = Model(n_classes, input_shape=(3, height, width))\n",
    "model = model.cuda()\n",
    "model"
   ]
  },
  {
   "cell_type": "code",
   "execution_count": 7,
   "metadata": {},
   "outputs": [
    {
     "name": "stderr",
     "output_type": "stream",
     "text": [
      "Epoch: 1 Loss: 1.4374 Acc: 0.0766 : 100%|██████████| 1000/1000 [03:05<00:00,  5.38it/s]\n",
      "Test : 1 Loss: 1.3737 Acc: 0.1096 : 100%|██████████| 100/100 [00:22<00:00,  4.40it/s]\n",
      "Epoch: 2 Loss: 0.1489 Acc: 0.7917 : 100%|██████████| 1000/1000 [03:04<00:00,  5.43it/s]\n",
      "Test : 2 Loss: 0.1342 Acc: 0.8080 : 100%|██████████| 100/100 [00:20<00:00,  4.91it/s]\n",
      "Epoch: 3 Loss: 0.0935 Acc: 0.8734 : 100%|██████████| 1000/1000 [02:54<00:00,  5.72it/s]\n",
      "Test : 3 Loss: 0.0805 Acc: 0.8903 : 100%|██████████| 100/100 [00:22<00:00,  4.47it/s]\n",
      "Epoch: 4 Loss: 0.0437 Acc: 0.9297 : 100%|██████████| 1000/1000 [02:53<00:00,  5.75it/s]\n",
      "Test : 4 Loss: 0.0597 Acc: 0.9049 : 100%|██████████| 100/100 [00:19<00:00,  5.15it/s]\n",
      "Epoch: 5 Loss: 0.0383 Acc: 0.9209 : 100%|██████████| 1000/1000 [02:54<00:00,  5.74it/s]\n",
      "Test : 5 Loss: 0.0333 Acc: 0.9314 : 100%|██████████| 100/100 [00:19<00:00,  5.10it/s]\n",
      "Epoch: 6 Loss: 0.0354 Acc: 0.9369 : 100%|██████████| 1000/1000 [03:04<00:00,  5.42it/s]\n",
      "Test : 6 Loss: 0.0289 Acc: 0.9440 : 100%|██████████| 100/100 [00:19<00:00,  5.12it/s]\n",
      "Epoch: 1 Loss: 0.0170 Acc: 0.9501 : 100%|██████████| 1000/1000 [02:50<00:00,  5.87it/s]\n",
      "Test : 1 Loss: 0.0130 Acc: 0.9591 : 100%|██████████| 100/100 [00:20<00:00,  4.97it/s]\n",
      "Epoch: 2 Loss: 0.0120 Acc: 0.9527 : 100%|██████████| 1000/1000 [03:14<00:00,  5.14it/s]\n",
      "Test : 2 Loss: 0.0129 Acc: 0.9569 : 100%|██████████| 100/100 [00:20<00:00,  4.81it/s]\n",
      "Epoch: 3 Loss: 0.0209 Acc: 0.9605 : 100%|██████████| 1000/1000 [03:18<00:00,  5.03it/s]\n",
      "Test : 3 Loss: 0.0171 Acc: 0.9539 : 100%|██████████| 100/100 [00:42<00:00,  2.34it/s]\n"
     ]
    }
   ],
   "source": [
    "optimizer = torch.optim.Adam(model.parameters(), 1e-3, amsgrad=True)\n",
    "epochs = 6\n",
    "for epoch in range(1, epochs + 1):\n",
    "    train(model, optimizer, epoch, train_loader, characters)\n",
    "    valid(model, optimizer, epoch, valid_loader, characters)\n",
    "optimizer = torch.optim.Adam(model.parameters(), 1e-4, amsgrad=True)\n",
    "epochs = 3\n",
    "for epoch in range(1, epochs + 1):\n",
    "    train(model, optimizer, epoch, train_loader, characters)\n",
    "    valid(model, optimizer, epoch, valid_loader, characters)"
   ]
  },
  {
   "cell_type": "code",
   "execution_count": 9,
   "metadata": {},
   "outputs": [],
   "source": [
    "def decode_targ(sequence):\n",
    "    return \"\".join([characters[x] for x in sequence]).replace(\" \", \"\")"
   ]
  },
  {
   "cell_type": "code",
   "execution_count": 11,
   "metadata": {},
   "outputs": [],
   "source": [
    "def decode_main(sequence):\n",
    "    a = ''.join([characters[x] for x in sequence])\n",
    "    s = ''.join([x for j, x in enumerate(a[:-1]) if x != characters[0] and x != a[j+1]])\n",
    "    if len(s) == 0:\n",
    "        return ''\n",
    "    if a[-1] != characters[0] and s[-1] != a[-1]:\n",
    "        s += a[-1]\n",
    "    return s"
   ]
  },
  {
   "cell_type": "code",
   "execution_count": 13,
   "metadata": {},
   "outputs": [
    {
     "name": "stdout",
     "output_type": "stream",
     "text": [
      "true:  INH9\n",
      "pred: INH9\n",
      "true:  EZYD\n",
      "pred: EZYD\n",
      "true:  LI31\n",
      "pred: LI31\n",
      "true:  VIZA\n",
      "pred: VIZA\n",
      "true:  92DE\n",
      "pred: 92DE\n",
      "true:  IRXN\n",
      "pred: IRXN\n",
      "true:  KHMT\n",
      "pred: KHMT\n",
      "true:  CBYN\n",
      "pred: CBYN\n",
      "true:  JPR8\n",
      "pred: JPR8\n",
      "true:  7O2V\n",
      "pred: 7O2V\n",
      "true:  I3J8\n",
      "pred: I3J8\n",
      "true:  DH2X\n",
      "pred: DH2X\n",
      "true:  C8YK\n",
      "pred: C8YK\n",
      "true:  S41Y\n",
      "pred: S41Y\n",
      "true:  BSCH\n",
      "pred: BSCH\n",
      "true:  KF1N\n",
      "pred: KF1N\n",
      "true:  7SFS\n",
      "pred: 7SFS\n",
      "true:  CBQP\n",
      "pred: CBQP\n",
      "true:  RNCI\n",
      "pred: RNCI\n",
      "true:  TLFD\n",
      "pred: TLFD\n",
      "true:  8SUO\n",
      "pred: 8SUO\n",
      "true:  HUY8\n",
      "pred: HUY8\n",
      "true:  Z7O7\n",
      "pred: Z7O7\n",
      "true:  BGRV\n",
      "pred: BGRV\n",
      "true:  XPCC\n",
      "pred: XPC\n"
     ]
    }
   ],
   "source": [
    "model.eval()\n",
    "output = model(image.unsqueeze(0).cuda())\n",
    "output_argmax = output.detach().permute(1, 0, 2).argmax(dim=-1)\n",
    "do = True\n",
    "while do or decode_targ(target) == decode_main(output_argmax[0]):\n",
    "    do = False\n",
    "    image, target, input_length, label_length = dataset[0]\n",
    "    print(\"true: \", decode_targ(target))\n",
    "    output = model(image.unsqueeze(0).cuda())\n",
    "    output_argmax = output.detach().permute(1, 0, 2).argmax(dim=-1)\n",
    "    print(\"pred:\", decode_main(output_argmax[0]))\n",
    "to_pil_image(image)\n",
    "torch.save(model, \"ctc3.pth\")"
   ]
  }
 ],
 "metadata": {
  "kernelspec": {
   "display_name": "python39",
   "language": "python",
   "name": "python3"
  },
  "language_info": {
   "codemirror_mode": {
    "name": "ipython",
    "version": 3
   },
   "file_extension": ".py",
   "mimetype": "text/x-python",
   "name": "python",
   "nbconvert_exporter": "python",
   "pygments_lexer": "ipython3",
   "version": "3.9.18"
  }
 },
 "nbformat": 4,
 "nbformat_minor": 2
}
